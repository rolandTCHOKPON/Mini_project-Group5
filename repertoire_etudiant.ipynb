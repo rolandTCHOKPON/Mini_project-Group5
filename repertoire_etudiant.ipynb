{
 "cells": [
  {
   "cell_type": "code",
   "execution_count": null,
   "id": "d2f34c4a",
   "metadata": {},
   "outputs": [],
   "source": [
    "import csv\n",
    "import os\n",
    "\n",
    "def student():\n",
    "    \"Fonction pour la creation de repertoire etudiant\"\n",
    "    with open('firstname_lastname.csv','r') as csv_file_student :\n",
    "        csv_reader_student = csv.reader(csv_file_student)\n",
    "        next(csv_reader_student)\n",
    "        list = []\n",
    "        for line_student in csv_reader_student:\n",
    "            os.makedirs('/nom_prenom_etudiant/{student}'.format(student = line_student)) \n",
    "            list.append(line_student)\n",
    "        return list   \n",
    "\n",
    "def course():\n",
    "    \"Fonction de creation de sous-repertoire course\"\n",
    "    with open('courses_of_follow.csv','r')  as csv_file_course : \n",
    "        csv_reader_course = csv.reader(csv_file_course)\n",
    "        next(csv_reader_course)\n",
    "        list = student()\n",
    "        \n",
    "        for i in range(0,len(list)):\n",
    "            for line_courses in csv_reader_course:\n",
    "                 os.makedirs('/nom_prenom_etudiant/{student}/{course}'.format(student = list[i],course = line_courses))\n",
    "course()  "
   ]
  }
 ],
 "metadata": {
  "kernelspec": {
   "display_name": "Python 3 (ipykernel)",
   "language": "python",
   "name": "python3"
  },
  "language_info": {
   "codemirror_mode": {
    "name": "ipython",
    "version": 3
   },
   "file_extension": ".py",
   "mimetype": "text/x-python",
   "name": "python",
   "nbconvert_exporter": "python",
   "pygments_lexer": "ipython3",
   "version": "3.9.12"
  }
 },
 "nbformat": 4,
 "nbformat_minor": 5
}
